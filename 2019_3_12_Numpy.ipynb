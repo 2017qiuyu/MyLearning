{
 "cells": [
  {
   "cell_type": "markdown",
   "metadata": {},
   "source": [
    "# Numpy学习  \n",
    "***\n",
    "NumPy 是一个运行速度非常快的数学库，主要用于数组计算，包含：\n",
    "   - 一个强大的N维数组对象 ndarray\n",
    "   - 广播功能函数\n",
    "   - 整合 C/C++/Fortran 代码的工具\n",
    "   - 线性代数、傅里叶变换、随机数生成等功能    \n",
    "   \n",
    "**Numpy官网**：<http://www.numpy.org/>  \n",
    "**Numpy源代码**：<https://github.com/numpy/numpy>  \n",
    "**Numpy教程**：<http://www.runoob.com/numpy/numpy-tutorial.html>"
   ]
  },
  {
   "cell_type": "markdown",
   "metadata": {},
   "source": [
    "## 安装  \n",
    "*******\n",
    "**我的安装环境**：Win10 64bit + Python3.7.1  \n",
    "Numpy的安装比较简单，在命令行直接敲入命令：<font color=#FF0000>   **pip install numpy** </font>   \n",
    "安装完成后可以使用命令 <font color=#FF0000> **pip show numpy** </font> 查看Numpy支持包的信息。 "
   ]
  },
  {
   "cell_type": "markdown",
   "metadata": {},
   "source": [
    "## Numpy Ndarray对象\n",
    "***\n",
    "ndarray 对象是用于存放同类型元素的多维数组，以 0 下标为开始进行集合中元素的索引。  \n",
    "创建一个 ndarray 直接调用 .array 函数即可：  \n",
    "<font color=#FF0000> **array = numpy.array(object, dtype = None, copy = True, order = None, subok = False, ndmin = 0)** </font> \n",
    "\n",
    "object|dtype|copy|order|subok|ndmin\n",
    ":--:|:--:|:--:|:--:|:--:|:--:\n",
    "数组或嵌套的数列|数组元素的数据类型，可选|对象是否需要复制，可选|创建数组的样式，C为行方向，F为列方向，A为任意方向（默认）|默认返回一个与基类类型一致的数组|\t指定生成数组的最小维度  \n"
   ]
  },
  {
   "cell_type": "code",
   "execution_count": 53,
   "metadata": {},
   "outputs": [
    {
     "name": "stdout",
     "output_type": "stream",
     "text": [
      "元素全为‘0’的3 * 4零矩阵:\n",
      " [[0 0 0 0]\n",
      " [0 0 0 0]\n",
      " [0 0 0 0]]\n",
      "\n",
      "元素全为‘1’的4 * 4矩阵:\n",
      " [[1 1 1]\n",
      " [1 1 1]\n",
      " [1 1 1]\n",
      " [1 1 1]]\n",
      "\n",
      "复数矩阵:\n",
      " [1.+0.j 2.+0.j 3.+0.j]\n",
      "\n",
      "arange生成的矩阵:\n",
      " [[ 1  3  5  7  9]\n",
      " [11 13 15 17 19]]\n",
      "\n",
      "linspace生成的矩阵:\n",
      " [[ 1  3  5  7  9]\n",
      " [11 13 15 17 19]]\n",
      "\n",
      "logspace生成的矩阵:\n",
      " [[   2.    4.    8.   16.   32.]\n",
      " [  64.  128.  256.  512. 1024.]]\n",
      "\n",
      "empty生成的矩阵:\n",
      " [[1. 0.]\n",
      " [2. 0.]\n",
      " [3. 0.]]\n",
      "\n",
      "asarray生成的矩阵:\n",
      " [[1 0 2]\n",
      " [0 3 0]]\n",
      "\n",
      "frombuffer生成的矩阵:\n",
      " [b'T' b'r' b'u' b't' b'h' b' ' b'i' b's' b' ' b't' b'h' b'e' b' ' b'd'\n",
      " b'a' b'u' b'g' b'h' b't' b'e' b'r' b' ' b'o' b'f' b' ' b't' b'i' b'm'\n",
      " b'e']\n",
      "\n",
      "fromiter生成的矩阵:\n",
      " [[ 0  1  2  3  4]\n",
      " [ 5  6  7  8  9]\n",
      " [10 11 12 13 14]\n",
      " [15 16 17 18 19]]\n",
      "\n",
      "原数据为: [11 13 15 17 19]\n",
      "使用 slice 切片: [19 17 15 13]\n",
      "使用 \":\" 切片: [13 15 17]\n"
     ]
    }
   ],
   "source": [
    "import numpy as np\n",
    "\n",
    "# -------------- Numpy创建对象 -------------- #\n",
    "zeros_array = np.zeros((3,4),dtype = np.int16)\n",
    "print('元素全为‘0’的3 * 4零矩阵:\\n',zeros_array)\n",
    "\n",
    "ones_array = np.ones((4,3),dtype = np.int16)\n",
    "print('\\n元素全为‘1’的4 * 4矩阵:\\n', ones_array)\n",
    "\n",
    "complex_array = np.array([1,  2,  3], dtype = complex) \n",
    "print('\\n复数矩阵:\\n', complex_array)\n",
    "\n",
    "range_array = np.arange(1,20,2).reshape(2,5)\n",
    "print('\\narange生成的矩阵:\\n', range_array)\n",
    "# a = np.arange(1,11).reshape(5,2)\n",
    "#print(a)\n",
    "\n",
    "# numpy.linspace 函数用于创建一个一维数组，数组是一个等差数列构成的\n",
    "# np.linspace(start, stop, num=50, endpoint=True, retstep=False, dtype=None)\n",
    "linspace_array = np.linspace(1,20,8).reshape(2,4)\n",
    "print('\\nlinspace生成的矩阵:\\n', range_array)\n",
    "\n",
    "# numpy.logspace 函数用于创建一个于等比数列。\n",
    "# np.logspace(start, stop, num=50, endpoint=True, base=10.0, dtype=None)\n",
    "log_array = np.logspace(1.0, 10.0, num = 10, base = 2).reshape(2,5)\n",
    "print('\\nlogspace生成的矩阵:\\n', log_array)\n",
    "\n",
    "empty_array = np.empty((3,2),dtype = float)\n",
    "print('\\nempty生成的矩阵:\\n', empty_array)\n",
    "\n",
    "# 从已有数组创建新的数组 使用 \n",
    "# np.asarray(a, dtype = None, order = None)\n",
    "# a -- 任意形式的输入参数，  可以是列表, \n",
    "#      列表的元组, 元组, 元组的元组, 元\n",
    "#      组的列表，多维数组。\n",
    "as_array = np.asarray(empty_array, dtype = int).reshape(2,3)\n",
    "print('\\nasarray生成的矩阵:\\n', as_array)\n",
    "\n",
    "# numpy.frombuffer 用于实现动态数组。\n",
    "# numpy.frombuffer 接受 buffer 输入\n",
    "# 参数，以流的形式读入转化成 \n",
    "# ndarray 对象。\n",
    "string =  b'Truth is the daughter of time' # 字节只能存储ASCII文字字符\n",
    "#print(type(string))\n",
    "frombuffer = np.frombuffer(string, dtype =  'S1')  \n",
    "print('\\nfrombuffer生成的矩阵:\\n', frombuffer)\n",
    "\n",
    "# numpy.fromiter从可迭代对象中建立 ndarray 对象，返回一维数组。  \n",
    "range_list = range(20)\n",
    "it = iter(range_list)\n",
    " # 使用迭代器创建 ndarray \n",
    "it_object = np.fromiter(it, dtype = int).reshape([4,5])\n",
    "print('\\nfromiter生成的矩阵:\\n', it_object)\n",
    "\n",
    "# -------------- Numpy切片和索引 -------------- #\n",
    "# 利用内建函数 slice 切片\n",
    "s = slice(4,0,-1)\n",
    "print('\\n原数据为:',range_array[1])\n",
    "print('使用 slice 切片:',range_array[1][s])\n",
    "# 利用冒号 \":\" 切片\n",
    "print('使用 \":\" 切片:',range_array[1][1:4])\n",
    "# 除此之外，还有一些其他的索引方式，可以参考：\n",
    "# http://www.runoob.com/numpy/numpy-advanced-indexing.html"
   ]
  },
  {
   "cell_type": "markdown",
   "metadata": {},
   "source": [
    "## Numpy 数据类型\n",
    "***\n",
    "**Numpy数据类型讲解**：<http://www.runoob.com/numpy/numpy-dtype.html>  \n",
    "除了常见的布尔型、整型、浮点型，还包括复数类型，除此之外，可以利用 **dtype** 建立结构化数据类型。"
   ]
  },
  {
   "cell_type": "code",
   "execution_count": 22,
   "metadata": {},
   "outputs": [
    {
     "name": "stdout",
     "output_type": "stream",
     "text": [
      "[(b'Alex', 21, 1500.) (b'John', 18, 1200.)]\n",
      "emp 数据类型为: [('name', 'S20'), ('age', 'i1'), ('salary', '<f4')]\n"
     ]
    }
   ],
   "source": [
    "# -------------- 自定义结构化数据类型 -------------- #\n",
    "employee = np.dtype([('name', 'a20'), ('age', 'i1'), ('salary', 'f4')]) \n",
    "\n",
    "emp = np.array([('Alex', 21, 1500),('John', 18, 1200)], dtype = employee) \n",
    "\n",
    "print(emp)\n",
    "\n",
    "print('emp 数据类型为:' , emp.dtype)"
   ]
  },
  {
   "cell_type": "markdown",
   "metadata": {},
   "source": [
    "## Numpy 属性\n",
    "***\n",
    "Numpy数组的一些基本属性在下面的例子中给出。"
   ]
  },
  {
   "cell_type": "code",
   "execution_count": 58,
   "metadata": {},
   "outputs": [
    {
     "name": "stdout",
     "output_type": "stream",
     "text": [
      "矩阵: [[1 2 3]\n",
      " [4 5 6]]\n",
      "元素类型: int32\n",
      "矩阵维数: 2\n",
      "矩阵维度（n 行 m 列）: (2, 3)\n",
      "矩阵元素总个数: 6\n",
      "每个元素的大小: 4 字节;\n",
      "元素的实部: [[1 2 3]\n",
      " [4 5 6]]\n",
      "元素的虚部： [[0 0 0]\n",
      " [0 0 0]]\n",
      "实际数组元素的缓冲区: <memory at 0x000001B4AA2E68B8>\n",
      "内存信息:   C_CONTIGUOUS : True\n",
      "  F_CONTIGUOUS : False\n",
      "  OWNDATA : True\n",
      "  WRITEABLE : True\n",
      "  ALIGNED : True\n",
      "  WRITEBACKIFCOPY : False\n",
      "  UPDATEIFCOPY : False\n"
     ]
    }
   ],
   "source": [
    "# -------------- numpy 属性 -------------- #\n",
    "array = np.array([[1,2,3],[4,5,6]])\n",
    " \n",
    "print('矩阵:', array)\n",
    "\n",
    "print('元素类型:', array.dtype)\n",
    "\n",
    "print('矩阵维数:', array.ndim)\n",
    "\n",
    "print('矩阵维度（n 行 m 列）:', array.shape)\n",
    "\n",
    "print('矩阵元素总个数:', array.size)\n",
    "\n",
    "print('每个元素的大小: %d 字节;' % array.itemsize)\n",
    "\n",
    "print('元素的实部:', array.real)\n",
    "\n",
    "print('元素的虚部：', array.imag)\n",
    "\n",
    "print('实际数组元素的缓冲区:', array.data)\n",
    "\n",
    "print('内存信息:', array.flags)"
   ]
  },
  {
   "cell_type": "markdown",
   "metadata": {},
   "source": [
    "# Numpy 广播（Broadcast）\n",
    "***\n",
    "针对不同形状的数组，Numpy使用了广播（Broadcast）来进行计算，使数组对应位置的元素能进行算术运算。"
   ]
  },
  {
   "cell_type": "code",
   "execution_count": 7,
   "metadata": {},
   "outputs": [
    {
     "name": "stdout",
     "output_type": "stream",
     "text": [
      "array \"a\" is:\n",
      " [[ 1  2  3  4]\n",
      " [ 5  6  7  8]\n",
      " [ 9 10 11 12]]\n",
      "array \"b\" is:\n",
      " [1 2 3 4]\n",
      "array \"c\" is:\n",
      " [[ 2  4  6  8]\n",
      " [ 6  8 10 12]\n",
      " [10 12 14 16]]\n"
     ]
    }
   ],
   "source": [
    "# -------------- numpy 广播 -------------- #\n",
    "a = np.arange(1,13,1).reshape(3,4)\n",
    "print('array \"a\" is:\\n',a)\n",
    "\n",
    "b = np.array([1,2,3,4])\n",
    "print('array \"b\" is:\\n',b)\n",
    "\n",
    "c = a + b\n",
    "print('array \"c\" is:\\n',c)"
   ]
  },
  {
   "cell_type": "markdown",
   "metadata": {},
   "source": [
    "# Numpy 数组操作\n",
    "***\n",
    "Numpy 可以对数组进行多种操作，包括以下几类：  \n",
    " - 修改数组形状   \n",
    " \n",
    "函数|描述\n",
    "--:|--:  \n",
    "reshape|不改变数据的条件下修改形状  \n",
    "flat|数组元素迭代器  \n",
    "flatten|返回一份数组拷贝，对拷贝所做的修改不会影响原始数组  \n",
    "ravel|返回展开数组  \n",
    "   \n",
    " - 翻转数组\n",
    " \n",
    " \n",
    "函数|描述\n",
    "--:|--:\n",
    "transpose|对换数组的维度\n",
    "ndarray.T|和 self.transpose() 相同\n",
    "rollaxis|向后滚动指定的轴\n",
    "swapaxes|对换数组的两个轴\n",
    " \n",
    " - 修改数组维度\n",
    " \n",
    " \n",
    "维度|描述\n",
    "--:|--:\n",
    "broadcast|产生模仿广播的对象\n",
    "broadcast_to|将数组广播到新形状\n",
    "expand_dims|扩展数组的形状\n",
    "squeeze|从数组的形状中删除一维条目\n",
    " \n",
    " - 连接数组          \n",
    "     \n",
    "函数|描述\n",
    "--:|--:\n",
    "concatenate|连接沿现有轴的数组序列\n",
    "stack|沿着新的轴加入一系列数组。\n",
    "hstack|水平堆叠序列中的数组（列方向）\n",
    "vstack|竖直堆叠序列中的数组（行方向）\n",
    "\n",
    " - 分割数组\n",
    " \n",
    " \n",
    "函数|数组及操作\n",
    "--:|--:\n",
    " split|将一个数组分割为多个子数组\n",
    "hsplit|将一个数组水平分割为多个子数组（按列）\n",
    "vsplit|将一个数组垂直分割为多个子数组（按行）\n",
    " \n",
    " - 数组元素的添加与删除\n",
    " \n",
    " \n",
    "函数|元素及描述\n",
    "--:|--:\n",
    "resize|返回指定形状的新数组\n",
    "append|将值添加到数组末尾\n",
    "insert|沿指定轴将值插入到指定下标之前\n",
    "delete|删掉某个轴的子数组，并返回删除后的新数组\n",
    "unique|查找数组内的唯一元素\n"
   ]
  },
  {
   "cell_type": "markdown",
   "metadata": {},
   "source": [
    "# Numpy “copy” 和 “deep copy”\n",
    "***\n",
    "简而言之，“copy”是简单的复制，复制对象和被复制对象共享同一内存空间，任一元素改变，则两者都会改变。“deep copy”(np.copy())则会开辟新的内存空间，复制对象与被复制对象被完全分开，改变其中一个，并不会影响另一个。"
   ]
  },
  {
   "cell_type": "code",
   "execution_count": 17,
   "metadata": {},
   "outputs": [
    {
     "name": "stdout",
     "output_type": "stream",
     "text": [
      "\"x\" is: [1 2 3 4]\n",
      "\"y\" is: [1 2 3 4]\n",
      "\"z\" is: [1 2 3 4]\n",
      "\"y\" is \"x\": True\n",
      "\"z\" is \"x\": False\n",
      "\"x\" is: [5 2 3 4]\n",
      "\"y\" is: [5 2 3 4]\n",
      "\"z\" is: [1 2 3 4]\n"
     ]
    }
   ],
   "source": [
    "x = np.arange(1,5,1)\n",
    "y = x\n",
    "z = x.copy()  # deep copy\n",
    "print('\"x\" is:',x)\n",
    "print('\"y\" is:',y)\n",
    "print('\"z\" is:',z)\n",
    "\n",
    "print('\"y\" is \"x\":',y is x)\n",
    "print('\"z\" is \"x\":',z is x)\n",
    "\n",
    "x[0] = 5\n",
    "\n",
    "print('\"x\" is:',x)\n",
    "print('\"y\" is:',y)\n",
    "print('\"z\" is:',z)"
   ]
  },
  {
   "cell_type": "markdown",
   "metadata": {},
   "source": [
    "内容尚有不足和不完整的地方，参考Numpy官方网站 <https://docs.scipy.org/doc/numpy/user/quickstart.html>"
   ]
  }
 ],
 "metadata": {
  "kernelspec": {
   "display_name": "Python 3",
   "language": "python",
   "name": "python3"
  },
  "language_info": {
   "codemirror_mode": {
    "name": "ipython",
    "version": 3
   },
   "file_extension": ".py",
   "mimetype": "text/x-python",
   "name": "python",
   "nbconvert_exporter": "python",
   "pygments_lexer": "ipython3",
   "version": "3.7.1"
  }
 },
 "nbformat": 4,
 "nbformat_minor": 2
}
