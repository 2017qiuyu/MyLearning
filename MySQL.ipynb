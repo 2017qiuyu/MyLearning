{
 "cells": [
  {
   "cell_type": "markdown",
   "metadata": {},
   "source": [
    "# Python-MySQL学习笔记（一）：SQL语法基础"
   ]
  },
  {
   "cell_type": "markdown",
   "metadata": {},
   "source": [
    "[菜鸟教程](http://www.runoob.com/mysql/mysql-tutorial.html)  \n",
    "数据库可以理解为按照**数据结构**来组织、存储和管理数据的仓库，每个数据库都可以提供一个或多个不同的API用于执行创建、访问、搜索等操作。  \n",
    "MySQL是最流行的关系型数据库管理系统，在WEB应用方面MySQL是最好的**RDBMS**(Relational Database Management System：关系数据库管理系统，即建立在关系模型基础上的数据库，借助于集合代数等数学概念和方法来处理数据库中的数据)**应用软件**之一。  \n",
    "RDBMS具有以下几个特点：\n",
    "  - 数据以表格的形式出现\n",
    "  - 每行为各种记录名称\n",
    "  - 每列为记录名称所对应的数据域\n",
    "  - 许多的行和列组成一张表单\n",
    "  - 若干的表单组成database"
   ]
  },
  {
   "cell_type": "markdown",
   "metadata": {},
   "source": [
    "# SQL语法规范\n",
    " - 数据库系统中，SQL语句不区分大小写（尽量使用大写），但字符串常量区分大小写，一般命令大写，表名库名小写\n",
    " - SQL语句可以单行或多行书写，以“；”结尾，关键词不可跨多行或简写\n",
    " - 可以使用空格和缩进来提高语句的可读性，子句通常位于独立行，便于编辑，提高可读性\n",
    " - 注释：单行注释：“--”   多行注释：“/*   */”  \n",
    " - SQL语句可以折行操作  \n",
    " - DDL、DML和DCL  "
   ]
  },
  {
   "cell_type": "markdown",
   "metadata": {},
   "source": [
    "# MySQL数据类型\n",
    "大致可以分为三类：数值类型、字符串类型、日期和时间类型\n",
    " - 数值类型  \n",
    "包括严格数值数据类型(INTEGER、SMALLINT、DECIMAL和NUMERIC)，以及近似数值数据类型(FLOAT、REAL和DOUBLE PRECISION)。\n",
    " -  字符串类型  \n",
    "字符串类型指CHAR、VARCHAR、BINARY、VARBINARY、BLOB、TEXT、ENUM和SET。\n",
    " - 日期和时间类型  \n",
    "表示时间值的日期和时间类型为DATETIME、DATE、TIMESTAMP、TIME和YEAR。  \n",
    "每个时间类型有一个有效值范围和一个\"零\"值，当指定不合法的MySQL不能表示的值时使用\"零\"值。"
   ]
  },
  {
   "cell_type": "markdown",
   "metadata": {},
   "source": [
    "# 数据库操作（DDL）\n",
    " - 1.创建数据库  \n",
    "     **CREATA DATABASE [if not exists] db_name [character set XXX]**   \n",
    " - 2.查看数据库  \n",
    "     **SHOW DATABASES;** 查看所有数据库   \n",
    "     **SHOW CREATE DATABASE db_name;**查看数据库的创建方式  \n",
    " - 3.修改数据库  \n",
    "     **ALTER DATABASE db_name [character set XXX]**   \n",
    " - 4.删除数据库  \n",
    "     **DROP DATABASE [if exists] db_name;**   \n",
    " - 5.使用数据库  \n",
    "     **USE db_name;**进入某数据库后无法后退，只能使用**USE**切换  \n",
    " - 6.查看当前使用的数据库  \n",
    "     **SELECT DATABASE();**"
   ]
  },
  {
   "cell_type": "markdown",
   "metadata": {},
   "source": [
    "# 数据表操作\n",
    " - 1.创建表（类似excel表）  \n",
    "     **CREATE TABLE tab_name(field1 type [完整性约束条件],field2 type,......fieldn type)[character set XXX]**;  \n",
    "     - 约束条件：  \n",
    "         -- PRIMARY KEY （非空且唯一）：主键  \n",
    "         -- UNIQUE  \n",
    "         -- NOT NULL  \n",
    "         -- AUTO_IMCREMENT:主键字段必须为数字类型    \n",
    "      \n",
    " - 2.查看表内容  \n",
    "    **DESC tab_name**; 查看表结构  \n",
    "    **SHOW COLUMNS FROM tab_name**; 查看表结构  \n",
    "    **SHOW TABLES**; 查看当前数据库中所有表  \n",
    "    **SHOW CREATE TABLE tab_name**; 查看当前数据库表建表语句  \n",
    "    \n",
    " - 3.修改表结构\n",
    "     - （1）增加一列（字段）  \n",
    "         **ALTER TABLE tab_name ADD [column] col_name type[完整性约束条件] [first | after 字段名]**;\n",
    "         \n",
    "     - 增加多列（字段）  \n",
    "         **ALTER TABLE tab_name ADD col_name_1 type,ADD col_name_2 type,ADD col_name_3 type,......,ADD col_name_n type**;        \n",
    "         \n",
    "     - （2）修改一列类型  \n",
    "         **ALTER TABLE tab_name MODIFY col_name type[完整性约束条件] [FIRST/AFTER 字段名]**;\n",
    "    \n",
    "     - （3）修改列名  \n",
    "         **ALTER TABLE tab_name CHANGE [column] col_name new_col_name type[完整性约束条件] [FIRST/AFTER 字段名]**;\n",
    "     \n",
    "     - （4）删除一列类型  \n",
    "         **ALTER TABLE tab_name DROP [column] col_name**;  \n",
    "         \n",
    "     - （5）修改表名  \n",
    "         **RENAME TABLE tab_name TO new_tab_name**;\n",
    "         \n",
    "     - （6）删除表  \n",
    "         **DROP TABLE tab_name**;    "
   ]
  },
  {
   "cell_type": "markdown",
   "metadata": {},
   "source": [
    "# 数据记录操作  \n",
    " - 1.插入表记录   \n",
    "   **INSERT INTO tab_name(field1, field2,...fieldn) VALUES(value1, value2,...valuen)**;\n",
    "   - set 插入  \n",
    "   **INSTER INTO tab_name SET field1=value1,field2=value2......fieldn=valuen**;\n",
    "\n",
    " - 2.修改表记录  \n",
    "   **UPDATE tab_name SET field1=value1,field2=value2......fieldn=valuen[WHERE语句]**;  \n",
    "   **UPDATE**语法可以用新值更新原有表行中的各列。  \n",
    "   **SET**子句只是要修改哪些列和要给予哪些值。  \n",
    "   **WHERE**子句指定应更新哪些行，如没有该子句，则更新所有行。\n",
    "   \n",
    " - 3.删除表记录\n",
    "   **DELETE FROM tab_name [WHERE语句]**;  \n",
    "   如果没有WHERE子句则删除整张表中的数据。    \n",
    "   **DELETE**只能用来删除一行记录。    \n",
    "   **DELETE**语句只能删除表中内容，不能删除表本身。  \n",
    "   **TRUNCATE TABLE**也可以删除表中的所有内容，该语句先摧毁表，在新建表，使用此种方式删除后的数据不能在事务中恢复。   \n",
    "   \n",
    " - 4.查询表记录  \n",
    "   **SELECT col_name,column_name FROM tab_name[WHERE Clause][LIMIT N][OFFSET M]**;  "
   ]
  },
